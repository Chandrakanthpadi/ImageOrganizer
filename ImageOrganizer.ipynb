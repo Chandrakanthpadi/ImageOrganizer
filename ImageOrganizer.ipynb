{
  "nbformat": 4,
  "nbformat_minor": 0,
  "metadata": {
    "colab": {
      "name": "ImageOrganizer.ipynb",
      "provenance": [],
      "authorship_tag": "ABX9TyOl0cg6zBNVIS3L7M/ouTy6",
      "include_colab_link": true
    },
    "kernelspec": {
      "name": "python3",
      "display_name": "Python 3"
    },
    "language_info": {
      "name": "python"
    },
    "accelerator": "GPU"
  },
  "cells": [
    {
      "cell_type": "markdown",
      "metadata": {
        "id": "view-in-github",
        "colab_type": "text"
      },
      "source": [
        "<a href=\"https://colab.research.google.com/github/Chandrakanthpadi/ImageOrganizer/blob/main/ImageOrganizer.ipynb\" target=\"_parent\"><img src=\"https://colab.research.google.com/assets/colab-badge.svg\" alt=\"Open In Colab\"/></a>"
      ]
    },
    {
      "cell_type": "code",
      "metadata": {
        "id": "0om88hn2SL5y"
      },
      "source": [
        "!pip install dlib\n",
        "!pip install face_recognition"
      ],
      "execution_count": null,
      "outputs": []
    },
    {
      "cell_type": "code",
      "metadata": {
        "id": "WVjea3PIaE7G"
      },
      "source": [
        "from google.colab import drive\n",
        "drive.mount('/content/drive')\n",
        "import face_recognition\n",
        "import cv2\n",
        "from google.colab.patches import cv2_imshow\n",
        "import os\n",
        "import shutil"
      ],
      "execution_count": null,
      "outputs": []
    },
    {
      "cell_type": "code",
      "metadata": {
        "colab": {
          "base_uri": "https://localhost:8080/"
        },
        "id": "GjK9zQcObGTB",
        "outputId": "7007d3fb-6e96-46ec-bc80-dbcb14e85cd2"
      },
      "source": [
        "faces = []\n",
        "for filename in os.listdir(\"/content/drive/MyDrive/Images\"):\n",
        "\n",
        "  c=0\n",
        "  print(filename)\n",
        "\n",
        "  image = face_recognition.load_image_file(f\"/content/drive/MyDrive/Images/{filename}\")\n",
        "  face_locations = face_recognition.face_locations(image,model=\"cnn\")\n",
        "  encodings = face_recognition.face_encodings(image,face_locations)\n",
        "  \n",
        "  tuppled = tuple(zip(face_locations,encodings))\n",
        "  \n",
        "  for face in tuppled:\n",
        "    \n",
        "    face_loc = face[0]\n",
        "    face_enc = face[1]\n",
        "    \n",
        "    result = face_recognition.compare_faces(faces,face_enc,0.6)\n",
        "    # print(result)\n",
        "\n",
        "    if(1 not in result or len(faces)==0):\n",
        "      try:\n",
        "        os.mkdir(f\"./person{len(faces)}\")\n",
        "      except:\n",
        "        print(\"File already exists\")\n",
        "      shutil.copy(f\"/content/drive/MyDrive/Images/{filename}\",f\"./person{len(faces)}\")\n",
        "      # addface(face_loc,f\"./person{c}\",f\"/content/drive/MyDrive/Images/{filename}\")\n",
        "\n",
        "      top, right, bottom, left = face_loc\n",
        "      imagefile = face_recognition.load_image_file(f\"/content/drive/MyDrive/Images/{filename}\")\n",
        "      cv2.rectangle(imagefile, (right,top),(left,bottom), (0,255,0))\n",
        "      cv2.imwrite(f\"./person{len(faces)}/special.jpg\",imagefile)\n",
        "      # cv2_imshow(imagefile)\n",
        "      c=c+1\n",
        "      faces.append(face_enc)\n",
        "\n",
        "    else:\n",
        "      for i in range(0,len(result)):\n",
        "        if(result[i]==1):\n",
        "          shutil.copy(f\"/content/drive/MyDrive/Images/{filename}\",f\"./person{i}\")\n",
        "\n",
        "# Displays the number of new faces detected in the current image.\n",
        "  # print(c)\n",
        "\n",
        "# Displays all the people detected in the given  folder containing images.\n",
        "print(len(faces))"
      ],
      "execution_count": 4,
      "outputs": [
        {
          "output_type": "stream",
          "text": [
            "john2.jpg\n",
            "1\n",
            "John3.jpg\n",
            "2\n",
            "John0.jpg\n",
            "2\n",
            "John1.jpg\n",
            "3\n",
            "Rock.jpg\n",
            "1\n",
            "Roman0.jpg\n",
            "1\n",
            "Roman1.jpg\n",
            "1\n",
            "Roman2.jpg\n",
            "1\n",
            "Romanrock.jpg\n",
            "2\n",
            "Roamon.jpg\n",
            "1\n",
            "5\n"
          ],
          "name": "stdout"
        }
      ]
    }
  ]
}