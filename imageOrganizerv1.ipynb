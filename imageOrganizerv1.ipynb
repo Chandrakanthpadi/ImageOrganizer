{
  "nbformat": 4,
  "nbformat_minor": 0,
  "metadata": {
    "colab": {
      "name": "imageOrganizerv1.ipynb",
      "provenance": [],
      "authorship_tag": "ABX9TyP+R4NdVkLGUHUoVcv8fmUS",
      "include_colab_link": true
    },
    "kernelspec": {
      "name": "python3",
      "display_name": "Python 3"
    },
    "language_info": {
      "name": "python"
    },
    "accelerator": "GPU"
  },
  "cells": [
    {
      "cell_type": "markdown",
      "metadata": {
        "id": "view-in-github",
        "colab_type": "text"
      },
      "source": [
        "<a href=\"https://colab.research.google.com/github/Chandrakanthpadi/ImageOrganizer/blob/main/imageOrganizerv1.ipynb\" target=\"_parent\"><img src=\"https://colab.research.google.com/assets/colab-badge.svg\" alt=\"Open In Colab\"/></a>"
      ]
    },
    {
      "cell_type": "code",
      "metadata": {
        "id": "tDowQEkTk8GL"
      },
      "source": [
        "# Installing the packages\n",
        "\n",
        "!pip install dlib\n",
        "!pip install face_recognition"
      ],
      "execution_count": null,
      "outputs": []
    },
    {
      "cell_type": "code",
      "metadata": {
        "id": "xN2x0yhLlIyl"
      },
      "source": [
        "# Mounting the google drive\n",
        "\n",
        "from google.colab import drive\n",
        "drive.mount('/content/drive')"
      ],
      "execution_count": null,
      "outputs": []
    },
    {
      "cell_type": "code",
      "metadata": {
        "id": "PPwDH91amFEM"
      },
      "source": [
        "# Packages Required\n",
        "\n",
        "import face_recognition\n",
        "import cv2\n",
        "from google.colab.patches import cv2_imshow\n",
        "import os\n",
        "import shutil"
      ],
      "execution_count": 3,
      "outputs": []
    },
    {
      "cell_type": "code",
      "metadata": {
        "colab": {
          "base_uri": "https://localhost:8080/"
        },
        "id": "Z4m67FpYlVr6",
        "outputId": "8fe996f8-5529-4241-e04d-a162d59cd21a"
      },
      "source": [
        "faces = []\n",
        "PATH = \"/content/drive/MyDrive/Images\"\n",
        "\n",
        "\n",
        "for filename in os.listdir(f\"{PATH}\"):\n",
        "\n",
        "  c=0\n",
        "  print(f\"Processing filename {filename}\")\n",
        "\n",
        "  image = face_recognition.load_image_file(f\"{PATH}/{filename}\")\n",
        "  face_locations = face_recognition.face_locations(image,model=\"cnn\")\n",
        "  encodings = face_recognition.face_encodings(image,face_locations)\n",
        "  \n",
        "  tuppled = tuple(zip(face_locations,encodings))\n",
        "  \n",
        "  for face in tuppled:\n",
        "    \n",
        "    face_loc = face[0]\n",
        "    face_enc = face[1]\n",
        "    \n",
        "    result = face_recognition.compare_faces(faces,face_enc,0.6)\n",
        "    # print(result)\n",
        "\n",
        "    if(1 not in result or len(faces)==0):\n",
        "      try:\n",
        "        os.mkdir(f\"{PATH}/person{len(faces)}\")\n",
        "      except:\n",
        "        print(\"File already exists\")\n",
        "      shutil.copy(f\"{PATH}/{filename}\",f\"{PATH}/person{len(faces)}\")\n",
        "\n",
        "      top, right, bottom, left = face_loc\n",
        "      imagefile = face_recognition.load_image_file(f\"{PATH}/{filename}\")\n",
        "      cv2.rectangle(imagefile, (right,top),(left,bottom), (0,255,0))\n",
        "      cv2.imwrite(f\"{PATH}/person{len(faces)}/identity.jpg\",imagefile)\n",
        "      c=c+1\n",
        "      faces.append(face_enc)\n",
        "\n",
        "    else:\n",
        "      for i in range(0,len(result)):\n",
        "        if(result[i]==1):\n",
        "          shutil.copy(f\"{PATH}/{filename}\",f\"{PATH}/person{i}\")\n",
        "\n",
        "# Displays the number of new faces detected in the current image.\n",
        "  # print(c)\n",
        "\n",
        "# Displays all the people detected in the given  folder containing images.\n",
        "print(len(faces))"
      ],
      "execution_count": 8,
      "outputs": [
        {
          "output_type": "stream",
          "text": [
            "Processing filename john2.jpg\n",
            "Processing filename John3.jpg\n",
            "Processing filename John0.jpg\n",
            "Processing filename John1.jpg\n",
            "Processing filename Rock.jpg\n",
            "Processing filename Roman0.jpg\n",
            "Processing filename Roman1.jpg\n",
            "Processing filename Roman2.jpg\n",
            "Processing filename Romanrock.jpg\n",
            "Processing filename Roamon.jpg\n",
            "5\n"
          ],
          "name": "stdout"
        }
      ]
    }
  ]
}